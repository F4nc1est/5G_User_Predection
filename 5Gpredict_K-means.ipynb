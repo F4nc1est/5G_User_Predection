{
 "cells": [
  {
   "cell_type": "code",
   "execution_count": 4,
   "id": "e7a37b85-79e3-4ff2-bb78-3e52d102c592",
   "metadata": {},
   "outputs": [
    {
     "name": "stdout",
     "output_type": "stream",
     "text": [
      "1. Required libraries imported.\n",
      "2. Loading data...\n",
      "Data loaded successfully.\n",
      "3. Splitting features and target variables...\n",
      "Features and target variables split successfully.\n",
      "4. Splitting the data into training and testing sets...\n",
      "Data split into training and testing sets successfully.\n",
      "5. Scaling features...\n",
      "Feature scaling completed.\n",
      "6. Performing K-means clustering...\n",
      "K-means clustering completed.\n",
      "7. Predicting cluster labels...\n",
      "Cluster labels predicted.\n",
      "8. Calculating AUC scores...\n",
      "Train AUC Score: 0.5835\n",
      "Test AUC Score: 0.5893\n",
      "Training Time (seconds): 5.0377\n"
     ]
    }
   ],
   "source": [
    "# Import required libraries\n",
    "import pandas as pd\n",
    "from sklearn.model_selection import train_test_split\n",
    "from sklearn.preprocessing import StandardScaler\n",
    "from sklearn.cluster import KMeans\n",
    "from sklearn.metrics import roc_auc_score\n",
    "import time\n",
    "import warnings\n",
    "\n",
    "# Suppress the FutureWarning related to 'n_init' in KMeans\n",
    "warnings.filterwarnings(\"ignore\", category=FutureWarning)\n",
    "\n",
    "print(\"1. Required libraries imported.\")\n",
    "\n",
    "# Load data\n",
    "print(\"2. Loading data...\")\n",
    "data = pd.read_csv(\"train.csv\")\n",
    "print(\"Data loaded successfully.\")\n",
    "\n",
    "# Split features and target variables\n",
    "print(\"3. Splitting features and target variables...\")\n",
    "X = data.drop(columns=['id', 'target'])\n",
    "y = data['target']\n",
    "print(\"Features and target variables split successfully.\")\n",
    "\n",
    "# Split the data into training and testing sets\n",
    "print(\"4. Splitting the data into training and testing sets...\")\n",
    "X_train, X_test, y_train, y_test = train_test_split(X, y, test_size=0.2, random_state=42)\n",
    "print(\"Data split into training and testing sets successfully.\")\n",
    "\n",
    "# Feature scaling\n",
    "print(\"5. Scaling features...\")\n",
    "scaler = StandardScaler()\n",
    "X_train_scaled = scaler.fit_transform(X_train)\n",
    "X_test_scaled = scaler.transform(X_test)\n",
    "print(\"Feature scaling completed.\")\n",
    "\n",
    "# K-means clustering\n",
    "print(\"6. Performing K-means clustering...\")\n",
    "# Explicitly set 'n_init' to suppress the FutureWarning\n",
    "kmeans = KMeans(n_clusters=2, random_state=42, n_init=10)\n",
    "start_time = time.time()\n",
    "kmeans.fit(X_train_scaled)\n",
    "end_time = time.time()\n",
    "training_time_kmeans = end_time - start_time\n",
    "print(\"K-means clustering completed.\")\n",
    "\n",
    "# Predict cluster labels\n",
    "print(\"7. Predicting cluster labels...\")\n",
    "train_clusters = kmeans.predict(X_train_scaled)\n",
    "test_clusters = kmeans.predict(X_test_scaled)\n",
    "print(\"Cluster labels predicted.\")\n",
    "\n",
    "# Calculate AUC scores using cluster labels\n",
    "print(\"8. Calculating AUC scores...\")\n",
    "auc_kmeans_train = roc_auc_score(y_train, train_clusters)\n",
    "auc_kmeans_test = roc_auc_score(y_test, test_clusters)\n",
    "print(f\"Train AUC Score: {auc_kmeans_train:.4f}\")\n",
    "print(f\"Test AUC Score: {auc_kmeans_test:.4f}\")\n",
    "print(f\"Training Time (seconds): {training_time_kmeans:.4f}\")"
   ]
  },
  {
   "cell_type": "code",
   "execution_count": null,
   "id": "921b2bd6-b55c-4e54-8ce0-31024d9f996f",
   "metadata": {},
   "outputs": [],
   "source": []
  }
 ],
 "metadata": {
  "kernelspec": {
   "display_name": "Python 3 (ipykernel)",
   "language": "python",
   "name": "python3"
  },
  "language_info": {
   "codemirror_mode": {
    "name": "ipython",
    "version": 3
   },
   "file_extension": ".py",
   "mimetype": "text/x-python",
   "name": "python",
   "nbconvert_exporter": "python",
   "pygments_lexer": "ipython3",
   "version": "3.11.7"
  }
 },
 "nbformat": 4,
 "nbformat_minor": 5
}
